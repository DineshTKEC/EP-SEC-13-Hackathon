{
  "nbformat": 4,
  "nbformat_minor": 0,
  "metadata": {
    "colab": {
      "provenance": [],
      "gpuType": "T4",
      "authorship_tag": "ABX9TyMjfJoPXCfVQEMYSCKH1R42",
      "include_colab_link": true
    },
    "kernelspec": {
      "name": "ir",
      "display_name": "R"
    },
    "language_info": {
      "name": "R"
    },
    "accelerator": "GPU"
  },
  "cells": [
    {
      "cell_type": "markdown",
      "metadata": {
        "id": "view-in-github",
        "colab_type": "text"
      },
      "source": [
        "<a href=\"https://colab.research.google.com/github/DineshTKEC/EP-SEC-13-Hackathon/blob/main/R_scripts_model_regression_and_plots.ipynb\" target=\"_parent\"><img src=\"https://colab.research.google.com/assets/colab-badge.svg\" alt=\"Open In Colab\"/></a>"
      ]
    },
    {
      "cell_type": "code",
      "execution_count": 2,
      "metadata": {
        "id": "iPy4C1SChCbK"
      },
      "outputs": [],
      "source": [
        "help(package = \"datasets\")"
      ]
    },
    {
      "cell_type": "code",
      "source": [
        "getwd()"
      ],
      "metadata": {
        "colab": {
          "base_uri": "https://localhost:8080/",
          "height": 34
        },
        "id": "VqjtDd_7hsb2",
        "outputId": "e8d53156-4406-4e7e-b4f5-17e584b0f12e"
      },
      "execution_count": 3,
      "outputs": [
        {
          "output_type": "display_data",
          "data": {
            "text/html": [
              "'/content'"
            ],
            "text/markdown": "'/content'",
            "text/latex": "'/content'",
            "text/plain": [
              "[1] \"/content\""
            ]
          },
          "metadata": {}
        }
      ]
    },
    {
      "cell_type": "code",
      "source": [
        "list.files()"
      ],
      "metadata": {
        "colab": {
          "base_uri": "https://localhost:8080/",
          "height": 34
        },
        "id": "iJAkpzwhiADy",
        "outputId": "b83acef3-51b3-4b27-db89-990c842fa716"
      },
      "execution_count": 4,
      "outputs": [
        {
          "output_type": "display_data",
          "data": {
            "text/html": [
              "'sample_data'"
            ],
            "text/markdown": "'sample_data'",
            "text/latex": "'sample\\_data'",
            "text/plain": [
              "[1] \"sample_data\""
            ]
          },
          "metadata": {}
        }
      ]
    },
    {
      "cell_type": "code",
      "source": [
        "\n",
        "data <- BOD\n",
        "head(data)\n"
      ],
      "metadata": {
        "colab": {
          "base_uri": "https://localhost:8080/",
          "height": 286
        },
        "id": "FhKNnmzlkjig",
        "outputId": "be2f3af5-3665-42ce-ad12-a6f357a74d14"
      },
      "execution_count": 10,
      "outputs": [
        {
          "output_type": "display_data",
          "data": {
            "text/html": [
              "<table class=\"dataframe\">\n",
              "<caption>A data.frame: 6 × 2</caption>\n",
              "<thead>\n",
              "\t<tr><th></th><th scope=col>Time</th><th scope=col>demand</th></tr>\n",
              "\t<tr><th></th><th scope=col>&lt;dbl&gt;</th><th scope=col>&lt;dbl&gt;</th></tr>\n",
              "</thead>\n",
              "<tbody>\n",
              "\t<tr><th scope=row>1</th><td>1</td><td> 8.3</td></tr>\n",
              "\t<tr><th scope=row>2</th><td>2</td><td>10.3</td></tr>\n",
              "\t<tr><th scope=row>3</th><td>3</td><td>19.0</td></tr>\n",
              "\t<tr><th scope=row>4</th><td>4</td><td>16.0</td></tr>\n",
              "\t<tr><th scope=row>5</th><td>5</td><td>15.6</td></tr>\n",
              "\t<tr><th scope=row>6</th><td>7</td><td>19.8</td></tr>\n",
              "</tbody>\n",
              "</table>\n"
            ],
            "text/markdown": "\nA data.frame: 6 × 2\n\n| <!--/--> | Time &lt;dbl&gt; | demand &lt;dbl&gt; |\n|---|---|---|\n| 1 | 1 |  8.3 |\n| 2 | 2 | 10.3 |\n| 3 | 3 | 19.0 |\n| 4 | 4 | 16.0 |\n| 5 | 5 | 15.6 |\n| 6 | 7 | 19.8 |\n\n",
            "text/latex": "A data.frame: 6 × 2\n\\begin{tabular}{r|ll}\n  & Time & demand\\\\\n  & <dbl> & <dbl>\\\\\n\\hline\n\t1 & 1 &  8.3\\\\\n\t2 & 2 & 10.3\\\\\n\t3 & 3 & 19.0\\\\\n\t4 & 4 & 16.0\\\\\n\t5 & 5 & 15.6\\\\\n\t6 & 7 & 19.8\\\\\n\\end{tabular}\n",
            "text/plain": [
              "  Time demand\n",
              "1 1     8.3  \n",
              "2 2    10.3  \n",
              "3 3    19.0  \n",
              "4 4    16.0  \n",
              "5 5    15.6  \n",
              "6 7    19.8  "
            ]
          },
          "metadata": {}
        }
      ]
    },
    {
      "cell_type": "code",
      "source": [
        "BOD\n"
      ],
      "metadata": {
        "colab": {
          "base_uri": "https://localhost:8080/",
          "height": 286
        },
        "id": "Y8P76SZwk-Yc",
        "outputId": "f5a793a8-10ef-409f-f7a1-6a853fca4406"
      },
      "execution_count": 11,
      "outputs": [
        {
          "output_type": "display_data",
          "data": {
            "text/html": [
              "<table class=\"dataframe\">\n",
              "<caption>A data.frame: 6 × 2</caption>\n",
              "<thead>\n",
              "\t<tr><th scope=col>Time</th><th scope=col>demand</th></tr>\n",
              "\t<tr><th scope=col>&lt;dbl&gt;</th><th scope=col>&lt;dbl&gt;</th></tr>\n",
              "</thead>\n",
              "<tbody>\n",
              "\t<tr><td>1</td><td> 8.3</td></tr>\n",
              "\t<tr><td>2</td><td>10.3</td></tr>\n",
              "\t<tr><td>3</td><td>19.0</td></tr>\n",
              "\t<tr><td>4</td><td>16.0</td></tr>\n",
              "\t<tr><td>5</td><td>15.6</td></tr>\n",
              "\t<tr><td>7</td><td>19.8</td></tr>\n",
              "</tbody>\n",
              "</table>\n"
            ],
            "text/markdown": "\nA data.frame: 6 × 2\n\n| Time &lt;dbl&gt; | demand &lt;dbl&gt; |\n|---|---|\n| 1 |  8.3 |\n| 2 | 10.3 |\n| 3 | 19.0 |\n| 4 | 16.0 |\n| 5 | 15.6 |\n| 7 | 19.8 |\n\n",
            "text/latex": "A data.frame: 6 × 2\n\\begin{tabular}{ll}\n Time & demand\\\\\n <dbl> & <dbl>\\\\\n\\hline\n\t 1 &  8.3\\\\\n\t 2 & 10.3\\\\\n\t 3 & 19.0\\\\\n\t 4 & 16.0\\\\\n\t 5 & 15.6\\\\\n\t 7 & 19.8\\\\\n\\end{tabular}\n",
            "text/plain": [
              "  Time demand\n",
              "1 1     8.3  \n",
              "2 2    10.3  \n",
              "3 3    19.0  \n",
              "4 4    16.0  \n",
              "5 5    15.6  \n",
              "6 7    19.8  "
            ]
          },
          "metadata": {}
        }
      ]
    },
    {
      "cell_type": "code",
      "source": [
        "str(BOD)\n",
        "\n"
      ],
      "metadata": {
        "colab": {
          "base_uri": "https://localhost:8080/",
          "height": 0
        },
        "id": "eu2lp7PVlHpL",
        "outputId": "b6199ee1-6f39-4d7c-fc18-857497d2ad60"
      },
      "execution_count": 12,
      "outputs": [
        {
          "output_type": "stream",
          "name": "stdout",
          "text": [
            "'data.frame':\t6 obs. of  2 variables:\n",
            " $ Time  : num  1 2 3 4 5 7\n",
            " $ demand: num  8.3 10.3 19 16 15.6 19.8\n",
            " - attr(*, \"reference\")= chr \"A1.4, p. 270\"\n"
          ]
        }
      ]
    },
    {
      "cell_type": "code",
      "source": [
        "summary(BOD)\n"
      ],
      "metadata": {
        "colab": {
          "base_uri": "https://localhost:8080/",
          "height": 139
        },
        "id": "lmaGpwmQlYge",
        "outputId": "5f2b95a1-1232-4a50-eedd-29c6ea54d0ef"
      },
      "execution_count": 13,
      "outputs": [
        {
          "output_type": "display_data",
          "data": {
            "text/plain": [
              "      Time           demand     \n",
              " Min.   :1.000   Min.   : 8.30  \n",
              " 1st Qu.:2.250   1st Qu.:11.62  \n",
              " Median :3.500   Median :15.80  \n",
              " Mean   :3.667   Mean   :14.83  \n",
              " 3rd Qu.:4.750   3rd Qu.:18.25  \n",
              " Max.   :7.000   Max.   :19.80  "
            ]
          },
          "metadata": {}
        }
      ]
    },
    {
      "cell_type": "code",
      "source": [
        "names(BOD)\n"
      ],
      "metadata": {
        "colab": {
          "base_uri": "https://localhost:8080/",
          "height": 34
        },
        "id": "FLp7Zlxilltj",
        "outputId": "af3e180d-674a-4a45-cf98-1516057c336d"
      },
      "execution_count": 14,
      "outputs": [
        {
          "output_type": "display_data",
          "data": {
            "text/html": [
              "<style>\n",
              ".list-inline {list-style: none; margin:0; padding: 0}\n",
              ".list-inline>li {display: inline-block}\n",
              ".list-inline>li:not(:last-child)::after {content: \"\\00b7\"; padding: 0 .5ex}\n",
              "</style>\n",
              "<ol class=list-inline><li>'Time'</li><li>'demand'</li></ol>\n"
            ],
            "text/markdown": "1. 'Time'\n2. 'demand'\n\n\n",
            "text/latex": "\\begin{enumerate*}\n\\item 'Time'\n\\item 'demand'\n\\end{enumerate*}\n",
            "text/plain": [
              "[1] \"Time\"   \"demand\""
            ]
          },
          "metadata": {}
        }
      ]
    },
    {
      "cell_type": "markdown",
      "source": [
        "In this exercise, we made exploratory data analysis wiith BOD.csv datasets. we loaded data set from sample data set from R official site.\n",
        "1. viewed datasets by BOD\n",
        "2. STRUCTURE OF DATASET by names(BOD)\n",
        "3. Summary statistics by summary(BOD)\n",
        "4.column names by names(BOD)\n",
        "\n",
        "\n"
      ],
      "metadata": {
        "id": "z1ktQWDzlpp2"
      }
    },
    {
      "cell_type": "code",
      "source": [
        "plot(BOD, type = \"o\", col = \"blue\", main = \"Biochemical Oxygen Demand\", xlab = \"Time (days)\", ylab = \"Demand (mg/L)\")\n"
      ],
      "metadata": {
        "colab": {
          "base_uri": "https://localhost:8080/",
          "height": 437
        },
        "id": "uAiBNovAnsfr",
        "outputId": "b1b3d598-031a-481c-a3a3-c0e44a6a0c46"
      },
      "execution_count": 15,
      "outputs": [
        {
          "output_type": "display_data",
          "data": {
            "text/plain": [
              "Plot with title “Biochemical Oxygen Demand”"
            ],
            "image/png": "[encoded data removed]"
          },
          "metadata": {
            "image/png": {
              "width": 420,
              "height": 420
            }
          }
        }
      ]
    },
    {
      "cell_type": "code",
      "source": [
        "BOD$Demand2 <- BOD$demand^2\n",
        "head(BOD)\n"
      ],
      "metadata": {
        "colab": {
          "base_uri": "https://localhost:8080/",
          "height": 286
        },
        "id": "Q8LNU0DXn8dd",
        "outputId": "874e7e3d-c056-415d-e75e-c1090d15fbc0"
      },
      "execution_count": 16,
      "outputs": [
        {
          "output_type": "display_data",
          "data": {
            "text/html": [
              "<table class=\"dataframe\">\n",
              "<caption>A data.frame: 6 × 3</caption>\n",
              "<thead>\n",
              "\t<tr><th></th><th scope=col>Time</th><th scope=col>demand</th><th scope=col>Demand2</th></tr>\n",
              "\t<tr><th></th><th scope=col>&lt;dbl&gt;</th><th scope=col>&lt;dbl&gt;</th><th scope=col>&lt;dbl&gt;</th></tr>\n",
              "</thead>\n",
              "<tbody>\n",
              "\t<tr><th scope=row>1</th><td>1</td><td> 8.3</td><td> 68.89</td></tr>\n",
              "\t<tr><th scope=row>2</th><td>2</td><td>10.3</td><td>106.09</td></tr>\n",
              "\t<tr><th scope=row>3</th><td>3</td><td>19.0</td><td>361.00</td></tr>\n",
              "\t<tr><th scope=row>4</th><td>4</td><td>16.0</td><td>256.00</td></tr>\n",
              "\t<tr><th scope=row>5</th><td>5</td><td>15.6</td><td>243.36</td></tr>\n",
              "\t<tr><th scope=row>6</th><td>7</td><td>19.8</td><td>392.04</td></tr>\n",
              "</tbody>\n",
              "</table>\n"
            ],
            "text/markdown": "\nA data.frame: 6 × 3\n\n| <!--/--> | Time &lt;dbl&gt; | demand &lt;dbl&gt; | Demand2 &lt;dbl&gt; |\n|---|---|---|---|\n| 1 | 1 |  8.3 |  68.89 |\n| 2 | 2 | 10.3 | 106.09 |\n| 3 | 3 | 19.0 | 361.00 |\n| 4 | 4 | 16.0 | 256.00 |\n| 5 | 5 | 15.6 | 243.36 |\n| 6 | 7 | 19.8 | 392.04 |\n\n",
            "text/latex": "A data.frame: 6 × 3\n\\begin{tabular}{r|lll}\n  & Time & demand & Demand2\\\\\n  & <dbl> & <dbl> & <dbl>\\\\\n\\hline\n\t1 & 1 &  8.3 &  68.89\\\\\n\t2 & 2 & 10.3 & 106.09\\\\\n\t3 & 3 & 19.0 & 361.00\\\\\n\t4 & 4 & 16.0 & 256.00\\\\\n\t5 & 5 & 15.6 & 243.36\\\\\n\t6 & 7 & 19.8 & 392.04\\\\\n\\end{tabular}\n",
            "text/plain": [
              "  Time demand Demand2\n",
              "1 1     8.3    68.89 \n",
              "2 2    10.3   106.09 \n",
              "3 3    19.0   361.00 \n",
              "4 4    16.0   256.00 \n",
              "5 5    15.6   243.36 \n",
              "6 7    19.8   392.04 "
            ]
          },
          "metadata": {}
        }
      ]
    },
    {
      "cell_type": "code",
      "source": [
        "subset(BOD, demand > 10)\n"
      ],
      "metadata": {
        "colab": {
          "base_uri": "https://localhost:8080/",
          "height": 255
        },
        "id": "VHdGaJwsoHWK",
        "outputId": "0a905df7-a36c-49b3-c172-ee83ae910b60"
      },
      "execution_count": 17,
      "outputs": [
        {
          "output_type": "display_data",
          "data": {
            "text/html": [
              "<table class=\"dataframe\">\n",
              "<caption>A data.frame: 5 × 3</caption>\n",
              "<thead>\n",
              "\t<tr><th></th><th scope=col>Time</th><th scope=col>demand</th><th scope=col>Demand2</th></tr>\n",
              "\t<tr><th></th><th scope=col>&lt;dbl&gt;</th><th scope=col>&lt;dbl&gt;</th><th scope=col>&lt;dbl&gt;</th></tr>\n",
              "</thead>\n",
              "<tbody>\n",
              "\t<tr><th scope=row>2</th><td>2</td><td>10.3</td><td>106.09</td></tr>\n",
              "\t<tr><th scope=row>3</th><td>3</td><td>19.0</td><td>361.00</td></tr>\n",
              "\t<tr><th scope=row>4</th><td>4</td><td>16.0</td><td>256.00</td></tr>\n",
              "\t<tr><th scope=row>5</th><td>5</td><td>15.6</td><td>243.36</td></tr>\n",
              "\t<tr><th scope=row>6</th><td>7</td><td>19.8</td><td>392.04</td></tr>\n",
              "</tbody>\n",
              "</table>\n"
            ],
            "text/markdown": "\nA data.frame: 5 × 3\n\n| <!--/--> | Time &lt;dbl&gt; | demand &lt;dbl&gt; | Demand2 &lt;dbl&gt; |\n|---|---|---|---|\n| 2 | 2 | 10.3 | 106.09 |\n| 3 | 3 | 19.0 | 361.00 |\n| 4 | 4 | 16.0 | 256.00 |\n| 5 | 5 | 15.6 | 243.36 |\n| 6 | 7 | 19.8 | 392.04 |\n\n",
            "text/latex": "A data.frame: 5 × 3\n\\begin{tabular}{r|lll}\n  & Time & demand & Demand2\\\\\n  & <dbl> & <dbl> & <dbl>\\\\\n\\hline\n\t2 & 2 & 10.3 & 106.09\\\\\n\t3 & 3 & 19.0 & 361.00\\\\\n\t4 & 4 & 16.0 & 256.00\\\\\n\t5 & 5 & 15.6 & 243.36\\\\\n\t6 & 7 & 19.8 & 392.04\\\\\n\\end{tabular}\n",
            "text/plain": [
              "  Time demand Demand2\n",
              "2 2    10.3   106.09 \n",
              "3 3    19.0   361.00 \n",
              "4 4    16.0   256.00 \n",
              "5 5    15.6   243.36 \n",
              "6 7    19.8   392.04 "
            ]
          },
          "metadata": {}
        }
      ]
    },
    {
      "cell_type": "code",
      "source": [],
      "metadata": {
        "id": "dl0V_6m9oLQq"
      },
      "execution_count": null,
      "outputs": []
    },
    {
      "cell_type": "markdown",
      "source": [
        "Linear Model fitting"
      ],
      "metadata": {
        "id": "HSph-0L2oTbG"
      }
    },
    {
      "cell_type": "markdown",
      "source": [],
      "metadata": {
        "id": "PHoV37DCoYyV"
      }
    },
    {
      "cell_type": "code",
      "source": [
        "model <- lm(demand ~ Time, data = BOD)\n",
        "summary(model)\n"
      ],
      "metadata": {
        "colab": {
          "base_uri": "https://localhost:8080/",
          "height": 329
        },
        "id": "Pv9br2_QoZWq",
        "outputId": "ab484284-b4db-4880-d2d5-53894e0f4f18"
      },
      "execution_count": 18,
      "outputs": [
        {
          "output_type": "display_data",
          "data": {
            "text/plain": [
              "\n",
              "Call:\n",
              "lm(formula = demand ~ Time, data = BOD)\n",
              "\n",
              "Residuals:\n",
              "      1       2       3       4       5       6 \n",
              "-1.9429 -1.6643  5.3143  0.5929 -1.5286 -0.7714 \n",
              "\n",
              "Coefficients:\n",
              "            Estimate Std. Error t value Pr(>|t|)  \n",
              "(Intercept)   8.5214     2.6589   3.205   0.0328 *\n",
              "Time          1.7214     0.6387   2.695   0.0544 .\n",
              "---\n",
              "Signif. codes:  0 ‘***’ 0.001 ‘**’ 0.01 ‘*’ 0.05 ‘.’ 0.1 ‘ ’ 1\n",
              "\n",
              "Residual standard error: 3.085 on 4 degrees of freedom\n",
              "Multiple R-squared:  0.6449,\tAdjusted R-squared:  0.5562 \n",
              "F-statistic: 7.265 on 1 and 4 DF,  p-value: 0.05435\n"
            ]
          },
          "metadata": {}
        }
      ]
    },
    {
      "cell_type": "code",
      "source": [
        "plot(BOD)\n",
        "abline(model, col = \"red\")\n"
      ],
      "metadata": {
        "colab": {
          "base_uri": "https://localhost:8080/",
          "height": 437
        },
        "id": "UT7D5CnGokES",
        "outputId": "3808ba9b-0fb9-4733-c83e-84e554f2a654"
      },
      "execution_count": 19,
      "outputs": [
        {
          "output_type": "display_data",
          "data": {
            "text/plain": [
              "plot without title"
            ],
            "image/png": "[encoded data removed]"
          },
          "metadata": {
            "image/png": {
              "width": 420,
              "height": 420
            }
          }
        }
      ]
    },
    {
      "cell_type": "code",
      "source": [
        "# Ensure you have a numeric dataset, like 'Time' and 'demand'\n",
        "plot(BOD$Time, BOD$demand2, type = \"o\", col = \"orange\",\n",
        "     main = \"Biochemical Oxygen Demand\", xlab = \"Time (days)\", ylab = \"Demand2 (mg/L)\")\n"
      ],
      "metadata": {
        "colab": {
          "base_uri": "https://localhost:8080/",
          "height": 437
        },
        "id": "d7uNIJH5piKs",
        "outputId": "a8c9f008-086a-4ff6-d9ca-8314da0bdec9"
      },
      "execution_count": 27,
      "outputs": [
        {
          "output_type": "display_data",
          "data": {
            "text/plain": [
              "Plot with title “Biochemical Oxygen Demand”"
            ],
            "image/png": "[encoded data removed]"
          },
          "metadata": {
            "image/png": {
              "width": 420,
              "height": 420
            }
          }
        }
      ]
    },
    {
      "cell_type": "code",
      "source": [
        "# Predict values from the model\n",
        "BOD$predicted_demand2 <- predict(model, BOD)\n",
        "\n",
        "# Plot original vs predicted values\n",
        "plot(BOD$Time, BOD$demand2, col = \"blue\", pch = 16, main = \"Original vs Predicted Demand2\",\n",
        "     xlab = \"Time\", ylab = \"Demand2\")\n",
        "lines(BOD$Time, BOD$predicted_demand2, col = \"red\", lwd = 2)\n"
      ],
      "metadata": {
        "colab": {
          "base_uri": "https://localhost:8080/",
          "height": 437
        },
        "id": "vfPNz2ZNqeJC",
        "outputId": "bf63bc30-9de8-47d1-f965-e370ffb77e1b"
      },
      "execution_count": 29,
      "outputs": [
        {
          "output_type": "display_data",
          "data": {
            "text/plain": [
              "Plot with title “Original vs Predicted Demand2”"
            ],
            "image/png": "[encoded data removed]"
          },
          "metadata": {
            "image/png": {
              "width": 420,
              "height": 420
            }
          }
        }
      ]
    }
  ]
}